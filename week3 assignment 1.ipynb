{
 "cells": [
  {
   "cell_type": "code",
   "execution_count": 59,
   "id": "33d0cb2e-5c9f-4483-805f-c5c7d61bd1ea",
   "metadata": {},
   "outputs": [],
   "source": [
    "# 'def' is used to create a function.\n",
    "def find_odd(a):\n",
    "    l = []\n",
    "    l1=list(range(1,25))\n",
    "    for i in l1:\n",
    "        if i%2 != 0:\n",
    "            l.append(i)\n",
    "    return l        "
   ]
  },
  {
   "cell_type": "code",
   "execution_count": 60,
   "id": "40966539-7add-4b2f-a8c8-315828a87758",
   "metadata": {},
   "outputs": [
    {
     "ename": "NameError",
     "evalue": "name 'l1' is not defined",
     "output_type": "error",
     "traceback": [
      "\u001b[0;31m---------------------------------------------------------------------------\u001b[0m",
      "\u001b[0;31mNameError\u001b[0m                                 Traceback (most recent call last)",
      "Cell \u001b[0;32mIn[60], line 1\u001b[0m\n\u001b[0;32m----> 1\u001b[0m find_odd(\u001b[43ml1\u001b[49m)\n",
      "\u001b[0;31mNameError\u001b[0m: name 'l1' is not defined"
     ]
    }
   ],
   "source": [
    "find_odd(l1)"
   ]
  },
  {
   "cell_type": "code",
   "execution_count": 61,
   "id": "4e9213db-b7fe-43e2-9331-afa64d29542b",
   "metadata": {},
   "outputs": [],
   "source": [
    "# We use *args and **kwargs as an argument when we are unsure about the number of arguments to pass in the functions.\n",
    "def test1(*args):\n",
    "    return args"
   ]
  },
  {
   "cell_type": "code",
   "execution_count": 62,
   "id": "6b3d364e-2f3b-4dc5-b784-fcb3a6cdafca",
   "metadata": {},
   "outputs": [
    {
     "data": {
      "text/plain": [
       "([1, 2, 3], 'soham', 2.34, (3+3j))"
      ]
     },
     "execution_count": 62,
     "metadata": {},
     "output_type": "execute_result"
    }
   ],
   "source": [
    "test1([1,2,3],\"soham\",2.34,3+3j)"
   ]
  },
  {
   "cell_type": "code",
   "execution_count": 63,
   "id": "fe5f9d99-63a1-415d-89a0-2b369cfdca5c",
   "metadata": {},
   "outputs": [],
   "source": [
    "def test2(**kwargs):\n",
    "    return kwargs"
   ]
  },
  {
   "cell_type": "code",
   "execution_count": 64,
   "id": "c0bbd151-0798-4e1d-8ab0-e9d223f4b0e6",
   "metadata": {},
   "outputs": [
    {
     "data": {
      "text/plain": [
       "{'a': [1, 2, 34], 'b': 'soham', 'c': 2.34}"
      ]
     },
     "execution_count": 64,
     "metadata": {},
     "output_type": "execute_result"
    }
   ],
   "source": [
    "test2(a=[1,2,34],b=\"soham\", c=2.34)"
   ]
  },
  {
   "cell_type": "code",
   "execution_count": 65,
   "id": "9bb12e07-b513-49dc-8bed-fd015f3fe9f6",
   "metadata": {},
   "outputs": [],
   "source": [
    "lis1=[2, 4, 6, 8, 10, 12, 14,16, 18, 20]"
   ]
  },
  {
   "cell_type": "code",
   "execution_count": 66,
   "id": "30bce54b-1dc8-460c-b2fa-5a249d3beb2b",
   "metadata": {},
   "outputs": [],
   "source": [
    "l1=iter(lis1)"
   ]
  },
  {
   "cell_type": "code",
   "execution_count": 67,
   "id": "f3bbe1ba-e505-4a6c-b0ae-f98956c7e01a",
   "metadata": {},
   "outputs": [
    {
     "data": {
      "text/plain": [
       "[2, 4, 6, 8, 10]"
      ]
     },
     "execution_count": 67,
     "metadata": {},
     "output_type": "execute_result"
    }
   ],
   "source": [
    "\"\"\"an iterator is an object that allows you to iterate over collections of data,\n",
    "such as lists, tuples, dictionaries, and sets.\"\"\"\n",
    "# Iter() method is used to initialize the iterator object\n",
    "list(filter(lambda x: x<12,l1))"
   ]
  },
  {
   "cell_type": "code",
   "execution_count": 68,
   "id": "a7e02242-e293-4cdb-a63f-09c2bd4a1a11",
   "metadata": {},
   "outputs": [],
   "source": [
    "lis1=[2, 4, 6, 8, 10, 12, 14,16, 18, 20]\n",
    "def test3(a):\n",
    "    lis2=[]\n",
    "    for i in lis1:\n",
    "        if i<=10:\n",
    "            lis2.append(i)\n",
    "    return lis2        "
   ]
  },
  {
   "cell_type": "code",
   "execution_count": 69,
   "id": "93800adf-9fda-4fc5-ad42-82b30257de67",
   "metadata": {},
   "outputs": [
    {
     "data": {
      "text/plain": [
       "[2, 4, 6, 8, 10]"
      ]
     },
     "execution_count": 69,
     "metadata": {},
     "output_type": "execute_result"
    }
   ],
   "source": [
    "test3(lis1)"
   ]
  },
  {
   "cell_type": "code",
   "execution_count": 70,
   "id": "af874fbd-7c0d-4e55-9f43-3b7f7a7b2705",
   "metadata": {},
   "outputs": [],
   "source": [
    "test=iter(test3(lis1))"
   ]
  },
  {
   "cell_type": "code",
   "execution_count": 71,
   "id": "21c06590-c6e5-4790-abd2-541b8b709806",
   "metadata": {},
   "outputs": [
    {
     "name": "stdout",
     "output_type": "stream",
     "text": [
      "2\n"
     ]
    }
   ],
   "source": [
    "print(next(test))"
   ]
  },
  {
   "cell_type": "code",
   "execution_count": 72,
   "id": "6e7ddd0c-9c3d-495d-8307-7e7af0c89a87",
   "metadata": {},
   "outputs": [
    {
     "name": "stdout",
     "output_type": "stream",
     "text": [
      "4\n"
     ]
    }
   ],
   "source": [
    "print(next(test))"
   ]
  },
  {
   "cell_type": "code",
   "execution_count": 73,
   "id": "b10da739-d9db-41f7-8210-8402666112f4",
   "metadata": {},
   "outputs": [
    {
     "name": "stdout",
     "output_type": "stream",
     "text": [
      "6\n"
     ]
    }
   ],
   "source": [
    "print(next(test))"
   ]
  },
  {
   "cell_type": "code",
   "execution_count": 74,
   "id": "d4334ba0-318e-46d2-b087-d992d5a36be7",
   "metadata": {},
   "outputs": [
    {
     "name": "stdout",
     "output_type": "stream",
     "text": [
      "8\n"
     ]
    }
   ],
   "source": [
    "print(next(test))"
   ]
  },
  {
   "cell_type": "code",
   "execution_count": 75,
   "id": "f9781fc2-adaf-4247-90d5-1443963aba83",
   "metadata": {},
   "outputs": [
    {
     "name": "stdout",
     "output_type": "stream",
     "text": [
      "10\n"
     ]
    }
   ],
   "source": [
    "print(next(test))"
   ]
  },
  {
   "cell_type": "code",
   "execution_count": 76,
   "id": "95e416cb-b53a-4398-b286-f9724640fead",
   "metadata": {},
   "outputs": [
    {
     "ename": "StopIteration",
     "evalue": "",
     "output_type": "error",
     "traceback": [
      "\u001b[0;31m---------------------------------------------------------------------------\u001b[0m",
      "\u001b[0;31mStopIteration\u001b[0m                             Traceback (most recent call last)",
      "Cell \u001b[0;32mIn[76], line 1\u001b[0m\n\u001b[0;32m----> 1\u001b[0m \u001b[38;5;28mprint\u001b[39m(\u001b[38;5;28;43mnext\u001b[39;49m\u001b[43m(\u001b[49m\u001b[43mtest\u001b[49m\u001b[43m)\u001b[49m)\n",
      "\u001b[0;31mStopIteration\u001b[0m: "
     ]
    }
   ],
   "source": [
    "print(next(test))"
   ]
  },
  {
   "cell_type": "code",
   "execution_count": 77,
   "id": "69d5f6b7-c03d-423a-abac-75e235d21677",
   "metadata": {},
   "outputs": [],
   "source": [
    "\"\"\"If you want to return multiple values from a function, you can use generator functions with yield keywords.\n",
    "The yield expressions return multiple values\"\"\"\n",
    "def test_fib(n):\n",
    "    a,b=0,1\n",
    "    for i in range(n):\n",
    "        yield a\n",
    "        a,b=b,a+b"
   ]
  },
  {
   "cell_type": "code",
   "execution_count": 78,
   "id": "e8818966-39c5-45cc-a5d5-39a7e62ced09",
   "metadata": {},
   "outputs": [
    {
     "data": {
      "text/plain": [
       "<generator object test_fib at 0x7f98f476da80>"
      ]
     },
     "execution_count": 78,
     "metadata": {},
     "output_type": "execute_result"
    }
   ],
   "source": [
    "test_fib(10)"
   ]
  },
  {
   "cell_type": "code",
   "execution_count": 79,
   "id": "86b610ae-f3cc-4ca8-a2a3-59800b92c782",
   "metadata": {},
   "outputs": [
    {
     "name": "stdout",
     "output_type": "stream",
     "text": [
      "0\n",
      "1\n",
      "1\n",
      "2\n",
      "3\n"
     ]
    }
   ],
   "source": [
    "for i in test_fib(5):\n",
    "    print(i)"
   ]
  },
  {
   "cell_type": "code",
   "execution_count": 80,
   "id": "0f15a4cc-a86a-4b6c-8581-001886a4c874",
   "metadata": {},
   "outputs": [],
   "source": [
    "\"\"\"Create a generator function for prime numbers less than\n",
    "1000. Use the next() method to print the\n",
    "first 20 prime numbers.\"\"\"\n",
    "def prime_generator():\n",
    "    primes = []\n",
    "    for num in range(2, 1000):\n",
    "        for i in primes:\n",
    "            if num % i == 0:\n",
    "                break\n",
    "        else:\n",
    "            primes.append(num)\n",
    "            yield num\n",
    "\n"
   ]
  },
  {
   "cell_type": "code",
   "execution_count": 81,
   "id": "4adb5c2e-df5d-49f3-8165-b980300b1b40",
   "metadata": {},
   "outputs": [],
   "source": [
    "primes = prime_generator()"
   ]
  },
  {
   "cell_type": "code",
   "execution_count": 82,
   "id": "baa7ae02-160a-4efd-ae73-90c719186343",
   "metadata": {},
   "outputs": [
    {
     "name": "stdout",
     "output_type": "stream",
     "text": [
      "2\n",
      "3\n",
      "5\n",
      "7\n",
      "11\n",
      "13\n",
      "17\n",
      "19\n",
      "23\n",
      "29\n",
      "31\n",
      "37\n",
      "41\n",
      "43\n",
      "47\n",
      "53\n",
      "59\n",
      "61\n",
      "67\n",
      "71\n"
     ]
    }
   ],
   "source": [
    "for i in range(20):\n",
    "    prime = next(primes)\n",
    "    print(prime)"
   ]
  },
  {
   "cell_type": "code",
   "execution_count": 83,
   "id": "fd7db204-df59-425b-94a6-25f31a98b5d2",
   "metadata": {},
   "outputs": [],
   "source": [
    "def test_fib(n):\n",
    "    a,b=0,1\n",
    "    while True:\n",
    "        yield a\n",
    "        a,b=b,a+b"
   ]
  },
  {
   "cell_type": "code",
   "execution_count": 84,
   "id": "6405858f-45f4-40cb-a0bc-733713a8cadb",
   "metadata": {},
   "outputs": [
    {
     "data": {
      "text/plain": [
       "<generator object test_fib at 0x7f98f476e0a0>"
      ]
     },
     "execution_count": 84,
     "metadata": {},
     "output_type": "execute_result"
    }
   ],
   "source": [
    "test_fib(10)"
   ]
  },
  {
   "cell_type": "code",
   "execution_count": 85,
   "id": "36c3d8f6-330a-4a35-9dc9-a26620d9a5de",
   "metadata": {},
   "outputs": [],
   "source": [
    "def test_fib(n):\n",
    "    a,b=0,1\n",
    "    while True:\n",
    "        yield a\n",
    "        a,b=b,a+b"
   ]
  },
  {
   "cell_type": "code",
   "execution_count": 86,
   "id": "69270ac8-9162-4991-b632-efac4b6329dd",
   "metadata": {},
   "outputs": [],
   "source": [
    "test=test_fib(10)"
   ]
  },
  {
   "cell_type": "code",
   "execution_count": 87,
   "id": "cebc1906-23e5-45b7-ab30-beab4243cde4",
   "metadata": {},
   "outputs": [
    {
     "name": "stdout",
     "output_type": "stream",
     "text": [
      "0\n"
     ]
    }
   ],
   "source": [
    "print(next(test))"
   ]
  },
  {
   "cell_type": "code",
   "execution_count": 88,
   "id": "7acb4450-0f4f-461d-81c4-d99cd347125b",
   "metadata": {},
   "outputs": [
    {
     "name": "stdout",
     "output_type": "stream",
     "text": [
      "1\n"
     ]
    }
   ],
   "source": [
    "print(next(test))"
   ]
  },
  {
   "cell_type": "code",
   "execution_count": 89,
   "id": "88a577c5-0f97-46d3-8ffc-77ade05cf6e5",
   "metadata": {},
   "outputs": [
    {
     "name": "stdout",
     "output_type": "stream",
     "text": [
      "1\n"
     ]
    }
   ],
   "source": [
    "print(next(test))"
   ]
  },
  {
   "cell_type": "code",
   "execution_count": 90,
   "id": "3224bd55-521d-479e-86b4-121be30ca0da",
   "metadata": {},
   "outputs": [
    {
     "name": "stdout",
     "output_type": "stream",
     "text": [
      "2\n"
     ]
    }
   ],
   "source": [
    "print(next(test))"
   ]
  },
  {
   "cell_type": "code",
   "execution_count": 91,
   "id": "b5268607-2fe6-4447-ac8d-af670f69e4c4",
   "metadata": {},
   "outputs": [
    {
     "name": "stdout",
     "output_type": "stream",
     "text": [
      "3\n"
     ]
    }
   ],
   "source": [
    "print(next(test))"
   ]
  },
  {
   "cell_type": "code",
   "execution_count": 92,
   "id": "1d42611a-5030-46a3-a80e-5fad368d21d8",
   "metadata": {},
   "outputs": [],
   "source": [
    "s=\"pwskills\""
   ]
  },
  {
   "cell_type": "code",
   "execution_count": 93,
   "id": "30dc902c-0db5-4593-826e-120b93bb1c0e",
   "metadata": {},
   "outputs": [
    {
     "data": {
      "text/plain": [
       "['p', 'w', 's', 'k', 'i', 'l', 'l', 's']"
      ]
     },
     "execution_count": 93,
     "metadata": {},
     "output_type": "execute_result"
    }
   ],
   "source": [
    "list(s)"
   ]
  },
  {
   "cell_type": "code",
   "execution_count": 94,
   "id": "380fe774-174d-4b69-8014-dc2a77b4d76f",
   "metadata": {},
   "outputs": [],
   "source": [
    "so=121"
   ]
  },
  {
   "cell_type": "code",
   "execution_count": 95,
   "id": "4d71de23-70e6-4c49-90f9-9a7efb72b02b",
   "metadata": {},
   "outputs": [],
   "source": [
    "def is_palindrome(number):\n",
    "    original_number = number\n",
    "    reversed_number = 0\n",
    "    while number > 0:\n",
    "        digit = number % 10\n",
    "        reversed_number = (reversed_number * 10) + digit\n",
    "        number = number // 10\n",
    "    if original_number == reversed_number:\n",
    "        return True\n",
    "    else:\n",
    "        return False"
   ]
  },
  {
   "cell_type": "code",
   "execution_count": null,
   "id": "c8026fd8-4397-4a50-a160-f8b1f098072a",
   "metadata": {},
   "outputs": [],
   "source": [
    "num = int(input(\"Enter a number: \"))"
   ]
  },
  {
   "cell_type": "code",
   "execution_count": null,
   "id": "a73b7cf5-c3fe-41dd-a571-3b6e11e11499",
   "metadata": {},
   "outputs": [],
   "source": [
    "if is_palindrome(num):\n",
    "    print(f\"{num} is a palindrome.\")\n",
    "else:\n",
    "    print(f\"{num} is not a palindrome.\")\n"
   ]
  },
  {
   "cell_type": "code",
   "execution_count": null,
   "id": "83f69f1f-cd47-4fda-a940-e7decadc35c3",
   "metadata": {},
   "outputs": [],
   "source": [
    "#Q9. Write a code to print odd numbers from 1 to 100 using list comprehension.\n",
    "def check_odd(n):\n",
    "    lis= range(0,100)\n",
    "    l1=[]\n",
    "    for i in lis:\n",
    "        if i%2!=0:\n",
    "            l1.append(i)\n",
    "    return l1"
   ]
  },
  {
   "cell_type": "code",
   "execution_count": null,
   "id": "1403db1f-4703-4415-aeca-2939e4e73e48",
   "metadata": {},
   "outputs": [],
   "source": [
    "a=range(1,100)"
   ]
  },
  {
   "cell_type": "code",
   "execution_count": null,
   "id": "7153fb16-02b6-4260-9cdd-ed0c0f15ee2b",
   "metadata": {},
   "outputs": [],
   "source": [
    "check_odd(a)"
   ]
  },
  {
   "cell_type": "code",
   "execution_count": null,
   "id": "07a6116b-f7b2-4436-ad04-53d504e100e0",
   "metadata": {},
   "outputs": [],
   "source": []
  }
 ],
 "metadata": {
  "kernelspec": {
   "display_name": "Python 3 (ipykernel)",
   "language": "python",
   "name": "python3"
  },
  "language_info": {
   "codemirror_mode": {
    "name": "ipython",
    "version": 3
   },
   "file_extension": ".py",
   "mimetype": "text/x-python",
   "name": "python",
   "nbconvert_exporter": "python",
   "pygments_lexer": "ipython3",
   "version": "3.10.8"
  }
 },
 "nbformat": 4,
 "nbformat_minor": 5
}
