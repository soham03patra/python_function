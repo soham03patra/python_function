{
 "cells": [
  {
   "cell_type": "code",
   "execution_count": 1,
   "id": "d8c24a55-789b-4ea2-92f9-d54721979938",
   "metadata": {},
   "outputs": [],
   "source": [
    "l1=[('Sachin Tendulkar', 34357), ('Ricky Ponting', 27483), ('Jack Kallis', 25534), ('Virat Kohli', 24936)]"
   ]
  },
  {
   "cell_type": "code",
   "execution_count": 2,
   "id": "4b0e6bab-182a-421c-87ea-fce456c968da",
   "metadata": {},
   "outputs": [],
   "source": [
    "l2=sorted(l1,key=lambda x:x[1])"
   ]
  },
  {
   "cell_type": "code",
   "execution_count": 3,
   "id": "d8b98621-dc03-44dc-ac01-0b367f953e7f",
   "metadata": {},
   "outputs": [
    {
     "data": {
      "text/plain": [
       "[('Virat Kohli', 24936),\n",
       " ('Jack Kallis', 25534),\n",
       " ('Ricky Ponting', 27483),\n",
       " ('Sachin Tendulkar', 34357)]"
      ]
     },
     "execution_count": 3,
     "metadata": {},
     "output_type": "execute_result"
    }
   ],
   "source": [
    "l2"
   ]
  },
  {
   "cell_type": "code",
   "execution_count": 4,
   "id": "a072af41-1bf1-4314-8ed7-5289bffbdf9b",
   "metadata": {},
   "outputs": [],
   "source": [
    "lis1=[1, 2, 3, 4, 5, 6, 7, 8, 9, 10]"
   ]
  },
  {
   "cell_type": "code",
   "execution_count": 7,
   "id": "e84160dd-614d-434e-b199-20f9df539b36",
   "metadata": {},
   "outputs": [
    {
     "data": {
      "text/plain": [
       "[1, 4, 9, 16, 25, 36, 49, 64, 81, 100]"
      ]
     },
     "execution_count": 7,
     "metadata": {},
     "output_type": "execute_result"
    }
   ],
   "source": [
    "list(map(lambda x : x**2,lis1))"
   ]
  },
  {
   "cell_type": "code",
   "execution_count": 8,
   "id": "122917ce-b948-472b-90c1-3f73d399d4be",
   "metadata": {},
   "outputs": [
    {
     "data": {
      "text/plain": [
       "('1', '2', '3', '4', '5', '6', '7', '8', '9', '10')"
      ]
     },
     "execution_count": 8,
     "metadata": {},
     "output_type": "execute_result"
    }
   ],
   "source": [
    "l01=[1, 2, 3, 4, 5, 6, 7, 8, 9, 10]\n",
    "tuple(map(lambda x : str(x),l01))"
   ]
  },
  {
   "cell_type": "code",
   "execution_count": 9,
   "id": "d245d251-11f1-425c-ae6f-8bbaea583031",
   "metadata": {},
   "outputs": [],
   "source": [
    "#Write a python program using reduce function to compute the product of a list containing numbers\n",
    "#from 1 to 25.\n",
    "from functools import  reduce\n"
   ]
  },
  {
   "cell_type": "code",
   "execution_count": 10,
   "id": "046a6d36-dd62-4a0c-8e38-c7813803d293",
   "metadata": {},
   "outputs": [],
   "source": [
    "l03=[1,2,3,4,5,6,7,8,9,10,11,12,13,14,15,16,17,18,19,20,21,22,23,24,25]"
   ]
  },
  {
   "cell_type": "code",
   "execution_count": 12,
   "id": "c3f7d7d2-1974-486b-898a-2aebe20b19cb",
   "metadata": {},
   "outputs": [
    {
     "data": {
      "text/plain": [
       "15511210043330985984000000"
      ]
     },
     "execution_count": 12,
     "metadata": {},
     "output_type": "execute_result"
    }
   ],
   "source": [
    "reduce(lambda x,y :x*y,l03 )"
   ]
  },
  {
   "cell_type": "code",
   "execution_count": 13,
   "id": "ca667c83-35bc-4810-8ebe-a737f5b81b41",
   "metadata": {},
   "outputs": [],
   "source": [
    "l04=[2, 3, 6, 9, 27, 60, 90, 120, 55, 46]"
   ]
  },
  {
   "cell_type": "code",
   "execution_count": 14,
   "id": "92289a5b-3bb2-4409-be82-25094007ba42",
   "metadata": {},
   "outputs": [
    {
     "data": {
      "text/plain": [
       "[6, 60, 90, 120]"
      ]
     },
     "execution_count": 14,
     "metadata": {},
     "output_type": "execute_result"
    }
   ],
   "source": [
    "list(filter(lambda x : x%2==0 and x%3==0,l04))"
   ]
  },
  {
   "cell_type": "code",
   "execution_count": 15,
   "id": "d08b59b5-61c0-40a3-b797-67544c4fe6db",
   "metadata": {},
   "outputs": [],
   "source": [
    "l05=['python', 'php', 'aba', 'radar', 'level']"
   ]
  },
  {
   "cell_type": "code",
   "execution_count": 17,
   "id": "783b84a5-7ac4-424b-8d97-9d44f8e82dec",
   "metadata": {},
   "outputs": [
    {
     "data": {
      "text/plain": [
       "['php', 'aba', 'radar', 'level']"
      ]
     },
     "execution_count": 17,
     "metadata": {},
     "output_type": "execute_result"
    }
   ],
   "source": [
    "list(filter(lambda x : x[::]==x[::-1] ,l05))"
   ]
  },
  {
   "cell_type": "code",
   "execution_count": null,
   "id": "79454521-19a5-44ae-b117-8851d02496c0",
   "metadata": {},
   "outputs": [],
   "source": []
  }
 ],
 "metadata": {
  "kernelspec": {
   "display_name": "Python 3 (ipykernel)",
   "language": "python",
   "name": "python3"
  },
  "language_info": {
   "codemirror_mode": {
    "name": "ipython",
    "version": 3
   },
   "file_extension": ".py",
   "mimetype": "text/x-python",
   "name": "python",
   "nbconvert_exporter": "python",
   "pygments_lexer": "ipython3",
   "version": "3.10.8"
  }
 },
 "nbformat": 4,
 "nbformat_minor": 5
}
